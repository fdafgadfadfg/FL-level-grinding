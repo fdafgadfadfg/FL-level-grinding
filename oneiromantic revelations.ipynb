{
 "cells": [
  {
   "cell_type": "code",
   "execution_count": null,
   "metadata": {},
   "outputs": [],
   "source": [
    "from  import WATCHFUL\n",
    "def actions_per_revelation(current_watchful, current_dangerous, palimpsest_scraps):\n",
    "    challenges = {{\"action\": \"spy holes\",\"challenge type\": \"watchful\",\"challenge level\": 297,\"fragments gained\": 38,\"fragments lost\": 2}, \n",
    "                  {\"action\": \"scholarly tomes\",\"challenge type\": \"watchful\",\"challenge level\": 150,\"fragments gained\": 37,\"fragments lost\": 0}, \n",
    "                  {\"action\": \"coded language\",\"challenge type\": \"watchful\",\"challenge level\": 84,\"fragments gained\": 5,\"fragments lost\": 0}, \n",
    "                  {\"action\": \"sealed chambers\",\"challenge type\": \"dangerous\",\"challenge level\": 209,\"fragments gained\": 25,\"fragments lost\": 15}}\n",
    "    for item in challenges:\n",
    "        #if challenge_type = \"watchful\":"
   ]
  }
 ],
 "metadata": {
  "kernelspec": {
   "display_name": "Python 3",
   "language": "python",
   "name": "python3"
  },
  "language_info": {
   "codemirror_mode": {
    "name": "ipython",
    "version": 3
   },
   "file_extension": ".py",
   "mimetype": "text/x-python",
   "name": "python",
   "nbconvert_exporter": "python",
   "pygments_lexer": "ipython3",
   "version": "3.12.3"
  }
 },
 "nbformat": 4,
 "nbformat_minor": 2
}
