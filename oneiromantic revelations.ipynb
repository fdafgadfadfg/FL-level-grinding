{
 "cells": [
  {
   "cell_type": "code",
   "execution_count": null,
   "metadata": {},
   "outputs": [],
   "source": [
    "def actions_per_revelation(current_watchful, current_dangerous, palimpsest_scraps):\n",
    "    progress_per_option = {\"spy holes\": 38, \"scholarly tomes\": 37, \"coded language\": 5, \"sealed chambers\": 25}\n",
    "    if current_watchful >= 297:\n",
    "        "
   ]
  }
 ],
 "metadata": {
  "language_info": {
   "name": "python"
  }
 },
 "nbformat": 4,
 "nbformat_minor": 2
}
